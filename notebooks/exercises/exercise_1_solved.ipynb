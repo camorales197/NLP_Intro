{
 "cells": [
  {
   "cell_type": "markdown",
   "metadata": {},
   "source": [
    "## Text Classification"
   ]
  },
  {
   "cell_type": "code",
   "execution_count": 1,
   "metadata": {},
   "outputs": [],
   "source": [
    "import numpy as np \n",
    "import spacy\n",
    "from sklearn.datasets import fetch_20newsgroups  \n",
    "from sklearn.pipeline import Pipeline"
   ]
  },
  {
   "cell_type": "code",
   "execution_count": 2,
   "metadata": {},
   "outputs": [],
   "source": [
    "# Load the filenames and data from the 20 newsgroups dataset\n",
    "# This will download the datasets if you don't have them already\n",
    "twenty_train = fetch_20newsgroups(\n",
    "    subset=\"train\", shuffle=True, download_if_missing=True\n",
    ")\n",
    "twenty_test = fetch_20newsgroups(subset=\"test\", shuffle=True, download_if_missing=True)"
   ]
  },
  {
   "cell_type": "code",
   "execution_count": 3,
   "metadata": {},
   "outputs": [
    {
     "data": {
      "text/plain": [
       "[\"From: lerxst@wam.umd.edu (where's my thing)\\nSubject: WHAT car is this!?\\nNntp-Posting-Host: rac3.wam.umd.edu\\nOrganization: University of Maryland, College Park\\nLines: 15\\n\\n I was wondering if anyone out there could enlighten me on this car I saw\\nthe other day. It was a 2-door sports car, looked to be from the late 60s/\\nearly 70s. It was called a Bricklin. The doors were really small. In addition,\\nthe front bumper was separate from the rest of the body. This is \\nall I know. If anyone can tellme a model name, engine specs, years\\nof production, where this car is made, history, or whatever info you\\nhave on this funky looking car, please e-mail.\\n\\nThanks,\\n- IL\\n   ---- brought to you by your neighborhood Lerxst ----\\n\\n\\n\\n\\n\",\n",
       " \"From: guykuo@carson.u.washington.edu (Guy Kuo)\\nSubject: SI Clock Poll - Final Call\\nSummary: Final call for SI clock reports\\nKeywords: SI,acceleration,clock,upgrade\\nArticle-I.D.: shelley.1qvfo9INNc3s\\nOrganization: University of Washington\\nLines: 11\\nNNTP-Posting-Host: carson.u.washington.edu\\n\\nA fair number of brave souls who upgraded their SI clock oscillator have\\nshared their experiences for this poll. Please send a brief message detailing\\nyour experiences with the procedure. Top speed attained, CPU rated speed,\\nadd on cards and adapters, heat sinks, hour of usage per day, floppy disk\\nfunctionality with 800 and 1.4 m floppies are especially requested.\\n\\nI will be summarizing in the next two days, so please add to the network\\nknowledge base if you have done the clock upgrade and haven't answered this\\npoll. Thanks.\\n\\nGuy Kuo <guykuo@u.washington.edu>\\n\"]"
      ]
     },
     "execution_count": 3,
     "metadata": {},
     "output_type": "execute_result"
    }
   ],
   "source": [
    "# What is this dataset about?\n",
    "twenty_train.data[:2]"
   ]
  },
  {
   "cell_type": "markdown",
   "metadata": {},
   "source": [
    "Let's look at what are all the classes:"
   ]
  },
  {
   "cell_type": "code",
   "execution_count": 4,
   "metadata": {},
   "outputs": [
    {
     "data": {
      "text/plain": [
       "['alt.atheism',\n",
       " 'comp.graphics',\n",
       " 'comp.os.ms-windows.misc',\n",
       " 'comp.sys.ibm.pc.hardware',\n",
       " 'comp.sys.mac.hardware',\n",
       " 'comp.windows.x',\n",
       " 'misc.forsale',\n",
       " 'rec.autos',\n",
       " 'rec.motorcycles',\n",
       " 'rec.sport.baseball',\n",
       " 'rec.sport.hockey',\n",
       " 'sci.crypt',\n",
       " 'sci.electronics',\n",
       " 'sci.med',\n",
       " 'sci.space',\n",
       " 'soc.religion.christian',\n",
       " 'talk.politics.guns',\n",
       " 'talk.politics.mideast',\n",
       " 'talk.politics.misc',\n",
       " 'talk.religion.misc']"
      ]
     },
     "execution_count": 4,
     "metadata": {},
     "output_type": "execute_result"
    }
   ],
   "source": [
    "twenty_train.target_names"
   ]
  },
  {
   "cell_type": "markdown",
   "metadata": {},
   "source": [
    "### Why do we need to convert text to numbers?"
   ]
  },
  {
   "cell_type": "code",
   "execution_count": 5,
   "metadata": {},
   "outputs": [
    {
     "name": "stdout",
     "output_type": "stream",
     "text": [
      "Shape of Term Frequency Matrix: (11314, 130107)\n"
     ]
    }
   ],
   "source": [
    "# Extracting features from text files\n",
    "from sklearn.feature_extraction.text import CountVectorizer\n",
    "\n",
    "count_vect = CountVectorizer()\n",
    "X_train_counts = count_vect.fit_transform(twenty_train.data)\n",
    "print(f\"Shape of Term Frequency Matrix: {X_train_counts.shape}\")"
   ]
  },
  {
   "cell_type": "code",
   "execution_count": 6,
   "metadata": {},
   "outputs": [
    {
     "name": "stdout",
     "output_type": "stream",
     "text": [
      "Shape of TFIDF Matrix: (11314, 130107)\n"
     ]
    }
   ],
   "source": [
    "from sklearn.feature_extraction.text import TfidfTransformer\n",
    "\n",
    "tfidf_transformer = TfidfTransformer()\n",
    "X_train_tfidf = tfidf_transformer.fit_transform(X_train_counts)\n",
    "print(f\"Shape of TFIDF Matrix: {X_train_tfidf.shape}\")"
   ]
  },
  {
   "cell_type": "code",
   "execution_count": 7,
   "metadata": {},
   "outputs": [],
   "source": [
    "# Machine Learning\n",
    "# Training Naive Bayes (NB) classifier on training data.\n",
    "from sklearn.naive_bayes import MultinomialNB\n",
    "\n",
    "clf = MultinomialNB().fit(X_train_tfidf, twenty_train.target)"
   ]
  },
  {
   "cell_type": "code",
   "execution_count": 8,
   "metadata": {},
   "outputs": [],
   "source": [
    "# Building a pipeline: We can write less code and do all of the above, by building a pipeline as follows:\n",
    "text_nb_clf = Pipeline(\n",
    "    [\n",
    "        (\"vect\", CountVectorizer()),\n",
    "        (\"tfidf\", TfidfTransformer()),\n",
    "        (\"clf\", MultinomialNB()),\n",
    "    ]\n",
    ")\n",
    "text_nb_clf = text_nb_clf.fit(twenty_train.data, twenty_train.target)"
   ]
  },
  {
   "cell_type": "code",
   "execution_count": 9,
   "metadata": {},
   "outputs": [],
   "source": [
    "predicted = text_nb_clf.predict(twenty_test.data)\n",
    "naivebayes_clf_accuracy = np.mean(predicted == twenty_test.target) * 100.0"
   ]
  },
  {
   "cell_type": "code",
   "execution_count": 10,
   "metadata": {},
   "outputs": [
    {
     "name": "stdout",
     "output_type": "stream",
     "text": [
      "Test Accuracy is 77.38980350504514 %\n"
     ]
    }
   ],
   "source": [
    "print(f\"Test Accuracy is {naivebayes_clf_accuracy} %\")"
   ]
  },
  {
   "cell_type": "code",
   "execution_count": 11,
   "metadata": {},
   "outputs": [],
   "source": [
    "# Using Logistic Regression (LR) instead of Multinomial Naive Bayes"
   ]
  },
  {
   "cell_type": "code",
   "execution_count": 12,
   "metadata": {},
   "outputs": [],
   "source": [
    "from sklearn.linear_model import LogisticRegression as LR"
   ]
  },
  {
   "cell_type": "code",
   "execution_count": 13,
   "metadata": {},
   "outputs": [
    {
     "name": "stdout",
     "output_type": "stream",
     "text": [
      "CPU times: user 15.7 s, sys: 1.11 s, total: 16.8 s\n",
      "Wall time: 17.6 s\n"
     ]
    }
   ],
   "source": [
    "%%time\n",
    "text_lr_clf = Pipeline(\n",
    "    [(\"vect\", CountVectorizer()), (\"tfidf\", TfidfTransformer()), (\"clf\", LR())]\n",
    ")\n",
    "text_lr_clf = text_lr_clf.fit(twenty_train.data, twenty_train.target)"
   ]
  },
  {
   "cell_type": "code",
   "execution_count": 14,
   "metadata": {},
   "outputs": [
    {
     "name": "stdout",
     "output_type": "stream",
     "text": [
      "Test Accuracy is 82.78013807753585\n"
     ]
    }
   ],
   "source": [
    "lr_predicted = text_lr_clf.predict(twenty_test.data)\n",
    "lr_clf_accuracy = np.mean(lr_predicted == twenty_test.target) * 100.0\n",
    "print(f\"Test Accuracy is {lr_clf_accuracy}\")"
   ]
  },
  {
   "cell_type": "code",
   "execution_count": 15,
   "metadata": {},
   "outputs": [],
   "source": [
    "from sklearn.metrics import confusion_matrix\n",
    "\n",
    "cf = confusion_matrix(y_true=twenty_test.target, y_pred=lr_predicted)"
   ]
  },
  {
   "cell_type": "code",
   "execution_count": 16,
   "metadata": {
    "scrolled": true
   },
   "outputs": [
    {
     "name": "stdout",
     "output_type": "stream",
     "text": [
      "[\n",
      "  [\n",
      "    237,\n",
      "    2,\n",
      "    0,\n",
      "    0,\n",
      "    1,\n",
      "    1,\n",
      "    4,\n",
      "    0,\n",
      "    3,\n",
      "    3,\n",
      "    0,\n",
      "    1,\n",
      "    2,\n",
      "    8,\n",
      "    2,\n",
      "    33,\n",
      "    2,\n",
      "    4,\n",
      "    1,\n",
      "    15\n",
      "  ],\n",
      "  [\n",
      "    1,\n",
      "    307,\n",
      "    14,\n",
      "    8,\n",
      "    8,\n",
      "    17,\n",
      "    6,\n",
      "    1,\n",
      "    0,\n",
      "    1,\n",
      "    0,\n",
      "    4,\n",
      "    10,\n",
      "    1,\n",
      "    4,\n",
      "    2,\n",
      "    1,\n",
      "    1,\n",
      "    2,\n",
      "    1\n",
      "  ],\n",
      "  [\n",
      "    2,\n",
      "    21,\n",
      "    290,\n",
      "    34,\n",
      "    12,\n",
      "    11,\n",
      "    2,\n",
      "    2,\n",
      "    1,\n",
      "    4,\n",
      "    0,\n",
      "    1,\n",
      "    1,\n",
      "    1,\n",
      "    3,\n",
      "    2,\n",
      "    0,\n",
      "    0,\n",
      "    6,\n",
      "    1\n",
      "  ],\n",
      "  [\n",
      "    0,\n",
      "    13,\n",
      "    23,\n",
      "    284,\n",
      "    21,\n",
      "    2,\n",
      "    14,\n",
      "    3,\n",
      "    0,\n",
      "    1,\n",
      "    0,\n",
      "    1,\n",
      "    25,\n",
      "    0,\n",
      "    3,\n",
      "    0,\n",
      "    1,\n",
      "    0,\n",
      "    0,\n",
      "    1\n",
      "  ],\n",
      "  [\n",
      "    0,\n",
      "    5,\n",
      "    6,\n",
      "    22,\n",
      "    319,\n",
      "    1,\n",
      "    10,\n",
      "    0,\n",
      "    0,\n",
      "    5,\n",
      "    1,\n",
      "    0,\n",
      "    12,\n",
      "    0,\n",
      "    1,\n",
      "    0,\n",
      "    0,\n",
      "    0,\n",
      "    3,\n",
      "    0\n",
      "  ],\n",
      "  [\n",
      "    0,\n",
      "    43,\n",
      "    38,\n",
      "    5,\n",
      "    4,\n",
      "    292,\n",
      "    3,\n",
      "    0,\n",
      "    0,\n",
      "    0,\n",
      "    0,\n",
      "    1,\n",
      "    3,\n",
      "    2,\n",
      "    4,\n",
      "    0,\n",
      "    0,\n",
      "    0,\n",
      "    0,\n",
      "    0\n",
      "  ],\n",
      "  [\n",
      "    0,\n",
      "    3,\n",
      "    2,\n",
      "    12,\n",
      "    7,\n",
      "    0,\n",
      "    351,\n",
      "    3,\n",
      "    2,\n",
      "    1,\n",
      "    1,\n",
      "    0,\n",
      "    7,\n",
      "    1,\n",
      "    0,\n",
      "    0,\n",
      "    0,\n",
      "    0,\n",
      "    0,\n",
      "    0\n",
      "  ],\n",
      "  [\n",
      "    0,\n",
      "    1,\n",
      "    1,\n",
      "    4,\n",
      "    0,\n",
      "    2,\n",
      "    14,\n",
      "    352,\n",
      "    3,\n",
      "    2,\n",
      "    0,\n",
      "    0,\n",
      "    12,\n",
      "    1,\n",
      "    1,\n",
      "    0,\n",
      "    1,\n",
      "    0,\n",
      "    2,\n",
      "    0\n",
      "  ],\n",
      "  [\n",
      "    0,\n",
      "    0,\n",
      "    0,\n",
      "    0,\n",
      "    0,\n",
      "    0,\n",
      "    6,\n",
      "    10,\n",
      "    378,\n",
      "    2,\n",
      "    0,\n",
      "    0,\n",
      "    1,\n",
      "    0,\n",
      "    0,\n",
      "    0,\n",
      "    0,\n",
      "    0,\n",
      "    1,\n",
      "    0\n",
      "  ],\n",
      "  [\n",
      "    1,\n",
      "    0,\n",
      "    0,\n",
      "    0,\n",
      "    2,\n",
      "    1,\n",
      "    6,\n",
      "    1,\n",
      "    0,\n",
      "    367,\n",
      "    15,\n",
      "    0,\n",
      "    2,\n",
      "    0,\n",
      "    0,\n",
      "    0,\n",
      "    1,\n",
      "    0,\n",
      "    0,\n",
      "    1\n",
      "  ],\n",
      "  [\n",
      "    0,\n",
      "    0,\n",
      "    0,\n",
      "    1,\n",
      "    3,\n",
      "    2,\n",
      "    2,\n",
      "    0,\n",
      "    0,\n",
      "    9,\n",
      "    379,\n",
      "    0,\n",
      "    0,\n",
      "    0,\n",
      "    0,\n",
      "    1,\n",
      "    0,\n",
      "    0,\n",
      "    2,\n",
      "    0\n",
      "  ],\n",
      "  [\n",
      "    1,\n",
      "    8,\n",
      "    3,\n",
      "    0,\n",
      "    3,\n",
      "    4,\n",
      "    5,\n",
      "    2,\n",
      "    1,\n",
      "    5,\n",
      "    0,\n",
      "    349,\n",
      "    6,\n",
      "    0,\n",
      "    1,\n",
      "    0,\n",
      "    4,\n",
      "    0,\n",
      "    4,\n",
      "    0\n",
      "  ],\n",
      "  [\n",
      "    0,\n",
      "    9,\n",
      "    6,\n",
      "    21,\n",
      "    8,\n",
      "    3,\n",
      "    8,\n",
      "    5,\n",
      "    2,\n",
      "    2,\n",
      "    0,\n",
      "    8,\n",
      "    314,\n",
      "    4,\n",
      "    2,\n",
      "    1,\n",
      "    0,\n",
      "    0,\n",
      "    0,\n",
      "    0\n",
      "  ],\n",
      "  [\n",
      "    4,\n",
      "    10,\n",
      "    1,\n",
      "    2,\n",
      "    2,\n",
      "    3,\n",
      "    15,\n",
      "    2,\n",
      "    5,\n",
      "    4,\n",
      "    0,\n",
      "    0,\n",
      "    13,\n",
      "    327,\n",
      "    0,\n",
      "    2,\n",
      "    1,\n",
      "    2,\n",
      "    3,\n",
      "    0\n",
      "  ],\n",
      "  [\n",
      "    0,\n",
      "    11,\n",
      "    0,\n",
      "    0,\n",
      "    2,\n",
      "    2,\n",
      "    2,\n",
      "    1,\n",
      "    0,\n",
      "    0,\n",
      "    1,\n",
      "    0,\n",
      "    2,\n",
      "    6,\n",
      "    361,\n",
      "    1,\n",
      "    2,\n",
      "    0,\n",
      "    3,\n",
      "    0\n",
      "  ],\n",
      "  [\n",
      "    2,\n",
      "    4,\n",
      "    2,\n",
      "    1,\n",
      "    0,\n",
      "    1,\n",
      "    1,\n",
      "    0,\n",
      "    0,\n",
      "    2,\n",
      "    0,\n",
      "    0,\n",
      "    2,\n",
      "    1,\n",
      "    3,\n",
      "    373,\n",
      "    0,\n",
      "    0,\n",
      "    0,\n",
      "    6\n",
      "  ],\n",
      "  [\n",
      "    0,\n",
      "    0,\n",
      "    0,\n",
      "    1,\n",
      "    1,\n",
      "    1,\n",
      "    6,\n",
      "    4,\n",
      "    2,\n",
      "    4,\n",
      "    1,\n",
      "    5,\n",
      "    1,\n",
      "    4,\n",
      "    2,\n",
      "    0,\n",
      "    319,\n",
      "    1,\n",
      "    9,\n",
      "    3\n",
      "  ],\n",
      "  [\n",
      "    7,\n",
      "    2,\n",
      "    0,\n",
      "    0,\n",
      "    0,\n",
      "    9,\n",
      "    1,\n",
      "    1,\n",
      "    1,\n",
      "    3,\n",
      "    1,\n",
      "    0,\n",
      "    0,\n",
      "    1,\n",
      "    0,\n",
      "    4,\n",
      "    4,\n",
      "    331,\n",
      "    11,\n",
      "    0\n",
      "  ],\n",
      "  [\n",
      "    1,\n",
      "    2,\n",
      "    0,\n",
      "    0,\n",
      "    1,\n",
      "    1,\n",
      "    4,\n",
      "    1,\n",
      "    1,\n",
      "    0,\n",
      "    0,\n",
      "    2,\n",
      "    2,\n",
      "    4,\n",
      "    8,\n",
      "    3,\n",
      "    96,\n",
      "    2,\n",
      "    181,\n",
      "    1\n",
      "  ],\n",
      "  [\n",
      "    39,\n",
      "    4,\n",
      "    0,\n",
      "    0,\n",
      "    0,\n",
      "    0,\n",
      "    4,\n",
      "    0,\n",
      "    0,\n",
      "    1,\n",
      "    2,\n",
      "    0,\n",
      "    0,\n",
      "    8,\n",
      "    3,\n",
      "    41,\n",
      "    13,\n",
      "    2,\n",
      "    10,\n",
      "    124\n",
      "  ]\n",
      "]\n"
     ]
    }
   ],
   "source": [
    "import json\n",
    "\n",
    "print(json.dumps(cf.tolist(), indent=2))"
   ]
  },
  {
   "cell_type": "code",
   "execution_count": 17,
   "metadata": {},
   "outputs": [
    {
     "ename": "ModuleNotFoundError",
     "evalue": "No module named 'seaborn'",
     "output_type": "error",
     "traceback": [
      "\u001b[0;31m---------------------------------------------------------------------------\u001b[0m",
      "\u001b[0;31mModuleNotFoundError\u001b[0m                       Traceback (most recent call last)",
      "Cell \u001b[0;32mIn[17], line 1\u001b[0m\n\u001b[0;32m----> 1\u001b[0m \u001b[38;5;28;01mimport\u001b[39;00m \u001b[38;5;21;01mseaborn\u001b[39;00m \u001b[38;5;28;01mas\u001b[39;00m \u001b[38;5;21;01msns\u001b[39;00m\n\u001b[1;32m      2\u001b[0m \u001b[38;5;28;01mimport\u001b[39;00m \u001b[38;5;21;01mmatplotlib\u001b[39;00m\u001b[38;5;21;01m.\u001b[39;00m\u001b[38;5;21;01mpyplot\u001b[39;00m \u001b[38;5;28;01mas\u001b[39;00m \u001b[38;5;21;01mplt\u001b[39;00m\n\u001b[1;32m      4\u001b[0m get_ipython()\u001b[38;5;241m.\u001b[39mrun_line_magic(\u001b[38;5;124m'\u001b[39m\u001b[38;5;124mmatplotlib\u001b[39m\u001b[38;5;124m'\u001b[39m, \u001b[38;5;124m'\u001b[39m\u001b[38;5;124minline\u001b[39m\u001b[38;5;124m'\u001b[39m)\n",
      "\u001b[0;31mModuleNotFoundError\u001b[0m: No module named 'seaborn'"
     ]
    }
   ],
   "source": [
    "import seaborn as sns\n",
    "import matplotlib.pyplot as plt\n",
    "\n",
    "%matplotlib inline"
   ]
  },
  {
   "cell_type": "code",
   "execution_count": null,
   "metadata": {},
   "outputs": [
    {
     "data": {
      "image/png": "[encoded data removed]",
      "text/plain": [
       "<Figure size 1440x720 with 2 Axes>"
      ]
     },
     "metadata": {
      "needs_background": "light"
     },
     "output_type": "display_data"
    }
   ],
   "source": [
    "plt.figure(figsize=(20, 10))\n",
    "ax = sns.heatmap(cf, annot=True, fmt=\"d\", linewidths=0.5, center=90, vmax=200)"
   ]
  },
  {
   "cell_type": "markdown",
   "metadata": {},
   "source": [
    "### Tricks of Trade\n",
    "#### Removing Stop Words"
   ]
  },
  {
   "cell_type": "code",
   "execution_count": null,
   "metadata": {},
   "outputs": [],
   "source": [
    "nlp = spacy.load(\"en_core_web_sm\")"
   ]
  },
  {
   "cell_type": "markdown",
   "metadata": {},
   "source": [
    "If there is an error above, try:\n",
    "- Windows:```python -m spacy download en_core_web_sm``` as **Administrator**\n",
    "- Linux:```sudo python -m spacy download en_core_web_sm```"
   ]
  },
  {
   "cell_type": "markdown",
   "metadata": {},
   "source": [
    "### Exploring spaCy"
   ]
  },
  {
   "cell_type": "code",
   "execution_count": null,
   "metadata": {
    "scrolled": true
   },
   "outputs": [
    {
     "data": {
      "text/plain": [
       "{\"'d\",\n",
       " \"'ll\",\n",
       " \"'m\",\n",
       " \"'re\",\n",
       " \"'s\",\n",
       " \"'ve\",\n",
       " 'a',\n",
       " 'about',\n",
       " 'above',\n",
       " 'across',\n",
       " 'after',\n",
       " 'afterwards',\n",
       " 'again',\n",
       " 'against',\n",
       " 'all',\n",
       " 'almost',\n",
       " 'alone',\n",
       " 'along',\n",
       " 'already',\n",
       " 'also',\n",
       " 'although',\n",
       " 'always',\n",
       " 'am',\n",
       " 'among',\n",
       " 'amongst',\n",
       " 'amount',\n",
       " 'an',\n",
       " 'and',\n",
       " 'another',\n",
       " 'any',\n",
       " 'anyhow',\n",
       " 'anyone',\n",
       " 'anything',\n",
       " 'anyway',\n",
       " 'anywhere',\n",
       " 'are',\n",
       " 'around',\n",
       " 'as',\n",
       " 'at',\n",
       " 'back',\n",
       " 'be',\n",
       " 'became',\n",
       " 'because',\n",
       " 'become',\n",
       " 'becomes',\n",
       " 'becoming',\n",
       " 'been',\n",
       " 'before',\n",
       " 'beforehand',\n",
       " 'behind',\n",
       " 'being',\n",
       " 'below',\n",
       " 'beside',\n",
       " 'besides',\n",
       " 'between',\n",
       " 'beyond',\n",
       " 'both',\n",
       " 'bottom',\n",
       " 'but',\n",
       " 'by',\n",
       " 'ca',\n",
       " 'call',\n",
       " 'can',\n",
       " 'cannot',\n",
       " 'could',\n",
       " 'did',\n",
       " 'do',\n",
       " 'does',\n",
       " 'doing',\n",
       " 'done',\n",
       " 'down',\n",
       " 'due',\n",
       " 'during',\n",
       " 'each',\n",
       " 'eight',\n",
       " 'either',\n",
       " 'eleven',\n",
       " 'else',\n",
       " 'elsewhere',\n",
       " 'empty',\n",
       " 'enough',\n",
       " 'even',\n",
       " 'ever',\n",
       " 'every',\n",
       " 'everyone',\n",
       " 'everything',\n",
       " 'everywhere',\n",
       " 'except',\n",
       " 'few',\n",
       " 'fifteen',\n",
       " 'fifty',\n",
       " 'first',\n",
       " 'five',\n",
       " 'for',\n",
       " 'former',\n",
       " 'formerly',\n",
       " 'forty',\n",
       " 'four',\n",
       " 'from',\n",
       " 'front',\n",
       " 'full',\n",
       " 'further',\n",
       " 'get',\n",
       " 'give',\n",
       " 'go',\n",
       " 'had',\n",
       " 'has',\n",
       " 'have',\n",
       " 'he',\n",
       " 'hence',\n",
       " 'her',\n",
       " 'here',\n",
       " 'hereafter',\n",
       " 'hereby',\n",
       " 'herein',\n",
       " 'hereupon',\n",
       " 'hers',\n",
       " 'herself',\n",
       " 'him',\n",
       " 'himself',\n",
       " 'his',\n",
       " 'how',\n",
       " 'however',\n",
       " 'hundred',\n",
       " 'i',\n",
       " 'if',\n",
       " 'in',\n",
       " 'indeed',\n",
       " 'into',\n",
       " 'is',\n",
       " 'it',\n",
       " 'its',\n",
       " 'itself',\n",
       " 'just',\n",
       " 'keep',\n",
       " 'last',\n",
       " 'latter',\n",
       " 'latterly',\n",
       " 'least',\n",
       " 'less',\n",
       " 'made',\n",
       " 'make',\n",
       " 'many',\n",
       " 'may',\n",
       " 'me',\n",
       " 'meanwhile',\n",
       " 'might',\n",
       " 'mine',\n",
       " 'more',\n",
       " 'moreover',\n",
       " 'most',\n",
       " 'mostly',\n",
       " 'move',\n",
       " 'much',\n",
       " 'must',\n",
       " 'my',\n",
       " 'myself',\n",
       " \"n't\",\n",
       " 'name',\n",
       " 'namely',\n",
       " 'neither',\n",
       " 'never',\n",
       " 'nevertheless',\n",
       " 'next',\n",
       " 'nine',\n",
       " 'no',\n",
       " 'nobody',\n",
       " 'none',\n",
       " 'noone',\n",
       " 'nor',\n",
       " 'not',\n",
       " 'nothing',\n",
       " 'now',\n",
       " 'nowhere',\n",
       " 'n‘t',\n",
       " 'n’t',\n",
       " 'of',\n",
       " 'off',\n",
       " 'often',\n",
       " 'on',\n",
       " 'once',\n",
       " 'one',\n",
       " 'only',\n",
       " 'onto',\n",
       " 'or',\n",
       " 'other',\n",
       " 'others',\n",
       " 'otherwise',\n",
       " 'our',\n",
       " 'ours',\n",
       " 'ourselves',\n",
       " 'out',\n",
       " 'over',\n",
       " 'own',\n",
       " 'part',\n",
       " 'per',\n",
       " 'perhaps',\n",
       " 'please',\n",
       " 'put',\n",
       " 'quite',\n",
       " 'rather',\n",
       " 're',\n",
       " 'really',\n",
       " 'regarding',\n",
       " 'same',\n",
       " 'say',\n",
       " 'see',\n",
       " 'seem',\n",
       " 'seemed',\n",
       " 'seeming',\n",
       " 'seems',\n",
       " 'serious',\n",
       " 'several',\n",
       " 'she',\n",
       " 'should',\n",
       " 'show',\n",
       " 'side',\n",
       " 'since',\n",
       " 'six',\n",
       " 'sixty',\n",
       " 'so',\n",
       " 'some',\n",
       " 'somehow',\n",
       " 'someone',\n",
       " 'something',\n",
       " 'sometime',\n",
       " 'sometimes',\n",
       " 'somewhere',\n",
       " 'still',\n",
       " 'such',\n",
       " 'take',\n",
       " 'ten',\n",
       " 'than',\n",
       " 'that',\n",
       " 'the',\n",
       " 'their',\n",
       " 'them',\n",
       " 'themselves',\n",
       " 'then',\n",
       " 'thence',\n",
       " 'there',\n",
       " 'thereafter',\n",
       " 'thereby',\n",
       " 'therefore',\n",
       " 'therein',\n",
       " 'thereupon',\n",
       " 'these',\n",
       " 'they',\n",
       " 'third',\n",
       " 'this',\n",
       " 'those',\n",
       " 'though',\n",
       " 'three',\n",
       " 'through',\n",
       " 'throughout',\n",
       " 'thru',\n",
       " 'thus',\n",
       " 'to',\n",
       " 'together',\n",
       " 'too',\n",
       " 'top',\n",
       " 'toward',\n",
       " 'towards',\n",
       " 'twelve',\n",
       " 'twenty',\n",
       " 'two',\n",
       " 'under',\n",
       " 'unless',\n",
       " 'until',\n",
       " 'up',\n",
       " 'upon',\n",
       " 'us',\n",
       " 'used',\n",
       " 'using',\n",
       " 'various',\n",
       " 'very',\n",
       " 'via',\n",
       " 'was',\n",
       " 'we',\n",
       " 'well',\n",
       " 'were',\n",
       " 'what',\n",
       " 'whatever',\n",
       " 'when',\n",
       " 'whence',\n",
       " 'whenever',\n",
       " 'where',\n",
       " 'whereafter',\n",
       " 'whereas',\n",
       " 'whereby',\n",
       " 'wherein',\n",
       " 'whereupon',\n",
       " 'wherever',\n",
       " 'whether',\n",
       " 'which',\n",
       " 'while',\n",
       " 'whither',\n",
       " 'who',\n",
       " 'whoever',\n",
       " 'whole',\n",
       " 'whom',\n",
       " 'whose',\n",
       " 'why',\n",
       " 'will',\n",
       " 'with',\n",
       " 'within',\n",
       " 'without',\n",
       " 'would',\n",
       " 'yet',\n",
       " 'you',\n",
       " 'your',\n",
       " 'yours',\n",
       " 'yourself',\n",
       " 'yourselves',\n",
       " '‘d',\n",
       " '‘ll',\n",
       " '‘m',\n",
       " '‘re',\n",
       " '‘s',\n",
       " '‘ve',\n",
       " '’d',\n",
       " '’ll',\n",
       " '’m',\n",
       " '’re',\n",
       " '’s',\n",
       " '’ve'}"
      ]
     },
     "execution_count": 20,
     "metadata": {},
     "output_type": "execute_result"
    }
   ],
   "source": [
    "from spacy.lang.en.stop_words import STOP_WORDS\n",
    "STOP_WORDS"
   ]
  },
  {
   "cell_type": "code",
   "execution_count": null,
   "metadata": {},
   "outputs": [
    {
     "data": {
      "text/plain": [
       "'There are 326 stopwords in spaCy'"
      ]
     },
     "execution_count": 21,
     "metadata": {},
     "output_type": "execute_result"
    }
   ],
   "source": [
    "f'There are {len(STOP_WORDS)} stopwords in spaCy'"
   ]
  },
  {
   "cell_type": "code",
   "execution_count": null,
   "metadata": {},
   "outputs": [
    {
     "data": {
      "text/plain": [
       "'After adding your own stop words, spaCy will use 327 stopwords'"
      ]
     },
     "execution_count": 22,
     "metadata": {},
     "output_type": "execute_result"
    }
   ],
   "source": [
    "# You can add your own corpora specific STOPWORDS using the .add syntax\n",
    "STOP_WORDS.add(\"your_additional_stop_word_here\")\n",
    "f'After adding your own stop words, spaCy will use {len(STOP_WORDS)} stopwords'"
   ]
  },
  {
   "cell_type": "code",
   "execution_count": null,
   "metadata": {},
   "outputs": [
    {
     "name": "stdout",
     "output_type": "stream",
     "text": [
      "I am learning the most important ideas Natural Language Processing ideas using Python\n"
     ]
    }
   ],
   "source": [
    "doc = nlp(\"I am learning the most important ideas Natural Language Processing ideas using Python\")\n",
    "print(doc)  # doc is a spaCy object which stores the entire document string"
   ]
  },
  {
   "cell_type": "markdown",
   "metadata": {},
   "source": [
    "**About spaCy objects**"
   ]
  },
  {
   "cell_type": "code",
   "execution_count": null,
   "metadata": {},
   "outputs": [
    {
     "name": "stdout",
     "output_type": "stream",
     "text": [
      "I\n",
      "am\n",
      "learning\n",
      "the\n",
      "most\n",
      "important\n",
      "ideas\n",
      "Natural\n",
      "Language\n",
      "Processing\n",
      "ideas\n",
      "using\n",
      "Python\n"
     ]
    }
   ],
   "source": [
    "for token in doc:\n",
    "    print(token)"
   ]
  },
  {
   "cell_type": "code",
   "execution_count": null,
   "metadata": {},
   "outputs": [
    {
     "data": {
      "text/plain": [
       "[learning, important, ideas, Natural, Language, Processing, ideas, Python]"
      ]
     },
     "execution_count": 25,
     "metadata": {},
     "output_type": "execute_result"
    }
   ],
   "source": [
    "simplified_doc = [token for token in doc if not token.is_punct | token.is_stop]\n",
    "simplified_doc\n",
    "# please note that .orth_ attribute returns the unicode string representation of the token"
   ]
  },
  {
   "cell_type": "markdown",
   "metadata": {},
   "source": [
    "We can also check what other things we know about these tags in the simplified_doc:"
   ]
  },
  {
   "cell_type": "code",
   "execution_count": null,
   "metadata": {},
   "outputs": [
    {
     "name": "stdout",
     "output_type": "stream",
     "text": [
      "Token:learning\tLemmatized:learn\tPart-of-Speech-Tag:VERB\n",
      "Token:important\tLemmatized:important\tPart-of-Speech-Tag:ADJ\n",
      "Token:ideas\tLemmatized:idea\tPart-of-Speech-Tag:NOUN\n",
      "Token:Natural\tLemmatized:Natural\tPart-of-Speech-Tag:PROPN\n",
      "Token:Language\tLemmatized:Language\tPart-of-Speech-Tag:PROPN\n",
      "Token:Processing\tLemmatized:Processing\tPart-of-Speech-Tag:PROPN\n",
      "Token:ideas\tLemmatized:idea\tPart-of-Speech-Tag:NOUN\n",
      "Token:Python\tLemmatized:Python\tPart-of-Speech-Tag:PROPN\n"
     ]
    }
   ],
   "source": [
    "for token in simplified_doc:\n",
    "    print(f'Token:{token.orth_}\\tLemmatized:{token.lemma_}\\tPart-of-Speech-Tag:{token.pos_}')"
   ]
  },
  {
   "cell_type": "markdown",
   "metadata": {},
   "source": [
    "### Integrating back with our classifier pipeline"
   ]
  },
  {
   "cell_type": "code",
   "execution_count": null,
   "metadata": {},
   "outputs": [],
   "source": [
    "# Construction 1\n",
    "from spacy.tokenizer import Tokenizer\n",
    "from spacy.lang.en import English\n",
    "nlp = English()\n",
    "# Create a blank Tokenizer with just the English vocab\n",
    "tokenizer = Tokenizer(nlp.vocab)\n",
    "def spacy_tokenizer(document):\n",
    "    return [token.orth_ for token in tokenizer(document)]"
   ]
  },
  {
   "cell_type": "markdown",
   "metadata": {},
   "source": [
    "Let's first run it without any spaCy tokenizer usage:"
   ]
  },
  {
   "cell_type": "code",
   "execution_count": null,
   "metadata": {},
   "outputs": [
    {
     "name": "stdout",
     "output_type": "stream",
     "text": [
      "Wall time: 1min 48s\n"
     ]
    }
   ],
   "source": [
    "%%time\n",
    "text_lr_clf = Pipeline([('vect', CountVectorizer()), ('tfidf', TfidfTransformer()), ('clf',LR())])\n",
    "text_lr_clf = text_lr_clf.fit(twenty_train.data, twenty_train.target)"
   ]
  },
  {
   "cell_type": "code",
   "execution_count": null,
   "metadata": {},
   "outputs": [
    {
     "name": "stdout",
     "output_type": "stream",
     "text": [
      "Test Accuracy is 82.74030801911843\n"
     ]
    },
    {
     "data": {
      "text/plain": [
       "82.74030801911843"
      ]
     },
     "execution_count": 29,
     "metadata": {},
     "output_type": "execute_result"
    }
   ],
   "source": [
    "def calc_print_accuracy(text_clf, test):\n",
    "    predictions = text_clf.predict(test.data)\n",
    "    clf_accuracy = np.mean(predictions == test.target) * 100.\n",
    "    print(f'Test Accuracy is {clf_accuracy}')\n",
    "    return clf_accuracy\n",
    "\n",
    "calc_print_accuracy(text_lr_clf, twenty_test)"
   ]
  },
  {
   "cell_type": "markdown",
   "metadata": {},
   "source": [
    "Then, we run it by passing a custom tokenizer -- in our case, from spaCy and a list of stop words -- again from spaCy."
   ]
  },
  {
   "cell_type": "code",
   "execution_count": null,
   "metadata": {},
   "outputs": [
    {
     "name": "stderr",
     "output_type": "stream",
     "text": [
      "c:\\users\\nirantk\\miniconda3\\envs\\book\\lib\\site-packages\\sklearn\\linear_model\\_logistic.py:765: ConvergenceWarning: lbfgs failed to converge (status=1):\n",
      "STOP: TOTAL NO. of ITERATIONS REACHED LIMIT.\n",
      "\n",
      "Increase the number of iterations (max_iter) or scale the data as shown in:\n",
      "    https://scikit-learn.org/stable/modules/preprocessing.html\n",
      "Please also refer to the documentation for alternative solver options:\n",
      "    https://scikit-learn.org/stable/modules/linear_model.html#logistic-regression\n",
      "  extra_warning_msg=_LOGISTIC_SOLVER_CONVERGENCE_MSG)\n"
     ]
    },
    {
     "name": "stdout",
     "output_type": "stream",
     "text": [
      "Test Accuracy is 79.5539033457249\n",
      "Wall time: 4min 37s\n"
     ]
    },
    {
     "data": {
      "text/plain": [
       "79.5539033457249"
      ]
     },
     "execution_count": 30,
     "metadata": {},
     "output_type": "execute_result"
    }
   ],
   "source": [
    "%%time\n",
    "text_lr_clf = Pipeline([('vect', CountVectorizer(tokenizer=spacy_tokenizer, stop_words=list(STOP_WORDS))), ('tfidf', TfidfTransformer()), ('clf',LR())])\n",
    "text_lr_clf = text_lr_clf.fit(twenty_train.data, twenty_train.target)\n",
    "calc_print_accuracy(text_lr_clf, twenty_test)"
   ]
  }
 ],
 "metadata": {
  "kernelspec": {
   "display_name": "Python 3",
   "language": "python",
   "name": "python3"
  },
  "language_info": {
   "codemirror_mode": {
    "name": "ipython",
    "version": 3
   },
   "file_extension": ".py",
   "mimetype": "text/x-python",
   "name": "python",
   "nbconvert_exporter": "python",
   "pygments_lexer": "ipython3",
   "version": "3.11.9"
  }
 },
 "nbformat": 4,
 "nbformat_minor": 2
}
