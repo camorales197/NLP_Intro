{
 "cells": [
  {
   "cell_type": "markdown",
   "metadata": {},
   "source": [
    "# Exercise: Topic Modeling with BERTopic\n",
    "\n",
    "1. Data Loading and Initial Exploration\n",
    "\n",
    "   - a. Download the 20 Newsgroups dataset using `fetch_20newsgroups` from `sklearn.datasets`.\n",
    "   - b. Load the dataset into a pandas DataFrame.\n",
    "   - c. Display the first few rows to understand the structure.\n",
    "   - d. Get a summary of the dataset:\n",
    "     - Number of samples.\n",
    "     - Distribution of classes\n",
    "     - Any missing values.\n",
    "\n",
    "2. Text Preprocessing\n",
    "\n",
    "   Perform basic preprocessing steps on the news texts:\n",
    "\n",
    "   - a. Lowercase conversion\n",
    "   - b. Removal of punctuation and special characters\n",
    "   - c. Tokenization\n",
    "\n",
    "3. Topic Modeling with BERTopic\n",
    "\n",
    "   - a. Install and import BERTopic.\n",
    "   - b. Initialize the BERTopic model.\n",
    "   - c. Fit the model on the preprocessed news articles.\n",
    "   - d. Extract and display the topics.\n",
    "\n",
    "4. Topic Analysis\n",
    "\n",
    "   - a. Visualize the topics using BERTopic's built-in visualization tools.\n",
    "   - b. Analyze the top words in each topic.\n",
    "   - c. Assign the dominant topic to each document and add it as a new column in the DataFrame.\n",
    "\n",
    "5. Model Evaluation\n",
    "\n",
    "   - a. Evaluate the coherence of the topics.\n",
    "   - b. Compare the topics with the original newsgroup categories.\n",
    "   - c. Interpret the results and discuss any interesting findings.\n"
   ]
  }
 ],
 "metadata": {
  "language_info": {
   "name": "python"
  }
 },
 "nbformat": 4,
 "nbformat_minor": 2
}
